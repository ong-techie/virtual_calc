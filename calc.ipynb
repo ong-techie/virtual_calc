{
 "cells": [
  {
   "cell_type": "code",
   "execution_count": 78,
   "id": "89ee7b02",
   "metadata": {},
   "outputs": [],
   "source": [
    "import cv2\n",
    "from cvzone.HandTrackingModule import HandDetector\n",
    "import time"
   ]
  },
  {
   "cell_type": "code",
   "execution_count": 79,
   "id": "39dee0bf",
   "metadata": {},
   "outputs": [],
   "source": [
    "#webcam \n",
    "cap=cv2.VideoCapture(0)\n",
    "cap.set(3,1920) #width\n",
    "cap.set(4,1080) #height\n",
    "detector=HandDetector(detectionCon=0.5,maxHands=1)"
   ]
  },
  {
   "cell_type": "code",
   "execution_count": 80,
   "id": "07949dfe",
   "metadata": {},
   "outputs": [],
   "source": [
    "#creating button class\n",
    "class Button:\n",
    "    def __init__(self,pos,width,height,text):\n",
    "        self.pos=pos\n",
    "        self.width=width\n",
    "        self.height=height\n",
    "        self.text=text\n",
    "    \n",
    "    def draw(self,img):\n",
    "        cv2.rectangle(img, self.pos, (self.pos[0]+self.width,self.pos[1]+self.height), (225, 225, 225), cv2.FILLED) # Draw a rectangle around the image\n",
    "        cv2.rectangle(img, self.pos, (self.pos[0]+self.width,self.pos[1]+self.height), (50,50,50), 3) # Draw a rectangle around the image\n",
    "        (text_width, text_height), _ = cv2.getTextSize(self.text, cv2.FONT_HERSHEY_PLAIN, 2, 2)\n",
    "        text_x = self.pos[0] + (self.width - text_width) // 2\n",
    "        text_y = self.pos[1] + (self.height + text_height) // 2\n",
    "        cv2.putText(img, self.text, (text_x, text_y), cv2.FONT_HERSHEY_PLAIN, 2, (255,0,0), 2)    \n",
    "    def click(self,x,y):\n",
    "        if self.pos[0]<x<self.pos[0]+self.width and self.pos[1]<y<self.pos[1]+self.height:\n",
    "            cv2.rectangle(img, self.pos, (self.pos[0]+self.width,self.pos[1]+self.height), (255, 255, 255), cv2.FILLED) # Draw a rectangle around the image\n",
    "            cv2.rectangle(img, self.pos, (self.pos[0]+self.width,self.pos[1]+self.height), (50,50,50), 3) # Draw a rectangle around the image\n",
    "            (text_width, text_height), _ = cv2.getTextSize(self.text, cv2.FONT_HERSHEY_PLAIN, 4, 4)\n",
    "            text_x = self.pos[0] + (self.width - text_width) // 2\n",
    "            text_y = self.pos[1] + (self.height + text_height) // 2\n",
    "            cv2.putText(img, self.text, (text_x, text_y), cv2.FONT_HERSHEY_PLAIN, 4, (0,0,0), 4)\n",
    "            return True\n",
    "        else:\n",
    "            return False"
   ]
  },
  {
   "cell_type": "code",
   "execution_count": 81,
   "id": "bc8212b2",
   "metadata": {},
   "outputs": [],
   "source": [
    "#create a button\n",
    "button_list_values = [[\"%\",\"CE\",\"C\",\"DEL\"],\n",
    "                      [\"7\",\"8\",\"9\",\"*\"],\n",
    "                      [\"4\",\"5\",\"6\",\"-\"],\n",
    "                      [\"1\",\"2\",\"3\",\"+\"],\n",
    "                      [\"/\",\"0\",\".\",\"=\"],]\n",
    "\n",
    "button_list = []\n",
    "for i in range(4):\n",
    "    for j in range(5):\n",
    "        xpos = i*75 + 300\n",
    "        ypos = j*75 + 125\n",
    "        button_list.append(Button((xpos,ypos),75,75,button_list_values[j][i]))\n",
    "myEquation = \"\"\n",
    "delaycounter = 0\n"
   ]
  },
  {
   "cell_type": "code",
   "execution_count": null,
   "id": "0b86950c",
   "metadata": {},
   "outputs": [
    {
     "ename": "ZeroDivisionError",
     "evalue": "division by zero",
     "output_type": "error",
     "traceback": [
      "\u001b[31m---------------------------------------------------------------------------\u001b[39m",
      "\u001b[31mZeroDivisionError\u001b[39m                         Traceback (most recent call last)",
      "\u001b[36mCell\u001b[39m\u001b[36m \u001b[39m\u001b[32mIn[82]\u001b[39m\u001b[32m, line 25\u001b[39m\n\u001b[32m     23\u001b[39m myValue = button_list_values[\u001b[38;5;28mint\u001b[39m(i%\u001b[32m5\u001b[39m)][\u001b[38;5;28mint\u001b[39m(i//\u001b[32m5\u001b[39m)]\n\u001b[32m     24\u001b[39m \u001b[38;5;28;01mif\u001b[39;00m myValue == \u001b[33m\"\u001b[39m\u001b[33m=\u001b[39m\u001b[33m\"\u001b[39m:\n\u001b[32m---> \u001b[39m\u001b[32m25\u001b[39m     myEquation = \u001b[38;5;28mstr\u001b[39m(\u001b[38;5;28meval\u001b[39m(myEquation))\n\u001b[32m     26\u001b[39m \u001b[38;5;28;01melif\u001b[39;00m myValue == \u001b[33m\"\u001b[39m\u001b[33mC\u001b[39m\u001b[33m\"\u001b[39m:\n\u001b[32m     27\u001b[39m     myEquation = \u001b[33m\"\u001b[39m\u001b[33m\"\u001b[39m\n",
      "\u001b[36mFile \u001b[39m\u001b[32m<string>:1\u001b[39m\n",
      "\u001b[31mZeroDivisionError\u001b[39m: division by zero"
     ]
    }
   ],
   "source": [
    "#loop to capture video\n",
    "while True:\n",
    "    #get image from camera\n",
    "    success,img=cap.read()\n",
    "    img = cv2.flip(img, 1) # Flip the image horizontally\n",
    "    #create hand detector object\n",
    "    hands,img= detector.findHands(img,flipType=False) #flipType=False to avoid flipping the image again \n",
    "    \n",
    "    #drew the button\n",
    "    cv2.rectangle(img, (300,50), (300+300,50+75), (225, 225, 225), cv2.FILLED)\n",
    "    cv2.rectangle(img, (300,50), (300+300,50+75), (50,50,50), 3)\n",
    "    for button in button_list:\n",
    "        button.draw(img)\n",
    "    \n",
    "    #check if hands are detected\n",
    "    if hands:\n",
    "        lmList = hands[0][\"lmList\"] #get the landmark list of the first hand\n",
    "        length, _, img = detector.findDistance(lmList[4][:2], lmList[8][:2], img) #find the distance between the index finger and thumb \n",
    "        x,y = lmList[8][:2]\n",
    "        if length<50:\n",
    "            for i,button in enumerate(button_list):\n",
    "                if button.click(x,y) and delaycounter==0:\n",
    "                    myValue = button_list_values[int(i%5)][int(i//5)]\n",
    "                    if myValue == \"=\":\n",
    "                        myEquation = str(eval(myEquation))\n",
    "                    elif myValue == \"C\":\n",
    "                        myEquation = \"\"\n",
    "                    elif myValue == \"DEL\":\n",
    "                        myEquation = myEquation[:-1]\n",
    "                    elif myValue == \"CE\":\n",
    "                        myEquation = \"\"\n",
    "                    else:\n",
    "                        myEquation += myValue\n",
    "                    delaycounter=1\n",
    "                    time.sleep(0.2)\n",
    "    #avoid duplicates\n",
    "    if delaycounter!=0:\n",
    "        delaycounter+=1\n",
    "        if delaycounter>10:\n",
    "            delaycounter=0\n",
    "    \n",
    "    #output screen\n",
    "    cv2.putText(img,myEquation,(420,120),cv2.FONT_HERSHEY_PLAIN,2,(255,0,0),2) \n",
    "    \n",
    "    #display the image\n",
    "    cv2.imshow(\"Image\", img)\n",
    "    cv2.waitKey(1)\n",
    "    "
   ]
  },
  {
   "cell_type": "code",
   "execution_count": null,
   "id": "9ce64035",
   "metadata": {},
   "outputs": [],
   "source": []
  }
 ],
 "metadata": {
  "kernelspec": {
   "display_name": ".venv",
   "language": "python",
   "name": "python3"
  },
  "language_info": {
   "codemirror_mode": {
    "name": "ipython",
    "version": 3
   },
   "file_extension": ".py",
   "mimetype": "text/x-python",
   "name": "python",
   "nbconvert_exporter": "python",
   "pygments_lexer": "ipython3",
   "version": "3.11.9"
  }
 },
 "nbformat": 4,
 "nbformat_minor": 5
}
