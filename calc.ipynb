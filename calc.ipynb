{
 "cells": [
  {
   "cell_type": "code",
   "execution_count": 7,
   "id": "89ee7b02",
   "metadata": {},
   "outputs": [],
   "source": [
    "import cv2\n",
    "from cvzone.HandTrackingModule import HandDetector\n",
    "import time"
   ]
  },
  {
   "cell_type": "code",
   "execution_count": 8,
   "id": "39dee0bf",
   "metadata": {},
   "outputs": [],
   "source": [
    "#webcam \n",
    "cap=cv2.VideoCapture(0)\n",
    "cap.set(3,1920) #width\n",
    "cap.set(4,1080) #height\n",
    "detector=HandDetector(detectionCon=0.5,maxHands=1)"
   ]
  },
  {
   "cell_type": "code",
   "execution_count": 13,
   "id": "07949dfe",
   "metadata": {},
   "outputs": [],
   "source": [
    "#creating button class\n",
    "class Button:\n",
    "    def __init__(self,pos,width,height,text):\n",
    "        self.pos=pos\n",
    "        self.width=width\n",
    "        self.height=height\n",
    "        self.text=text\n",
    "    \n",
    "    def draw(self,img):\n",
    "        cv2.rectangle(img, self.pos, (self.pos[0]+self.width,self.pos[1]+self.height), (240, 240, 240), cv2.FILLED) # Draw a rectangle around the image\n",
    "        cv2.rectangle(img, self.pos, (self.pos[0]+self.width,self.pos[1]+self.height), (100,100,100), 2) # Draw a rectangle around the image\n",
    "        (text_width, text_height), _ = cv2.getTextSize(self.text, cv2.FONT_HERSHEY_PLAIN, 2, 2)\n",
    "        text_x = self.pos[0] + (self.width - text_width) // 2\n",
    "        text_y = self.pos[1] + (self.height + text_height) // 2\n",
    "        if self.text in ['+', '-', '*', '/', '=']:\n",
    "            # Operators - blue\n",
    "            cv2.putText(img, self.text, (text_x, text_y), cv2.FONT_HERSHEY_PLAIN, 2, (0, 100, 200), 2)\n",
    "        elif self.text in ['C', 'CE', 'DEL', '%']:\n",
    "            # Special functions - red\n",
    "            cv2.putText(img, self.text, (text_x, text_y), cv2.FONT_HERSHEY_PLAIN, 2, (200, 50, 50), 2)\n",
    "        else:\n",
    "            # Numbers and decimal - dark gray\n",
    "            cv2.putText(img, self.text, (text_x, text_y), cv2.FONT_HERSHEY_PLAIN, 2, (50, 50, 50), 2)\n",
    "        \n",
    "    def click(self,x,y):\n",
    "        if self.pos[0]<x<self.pos[0]+self.width and self.pos[1]<y<self.pos[1]+self.height:\n",
    "            # Pressed state - darker background\n",
    "            cv2.rectangle(img, self.pos, (self.pos[0]+self.width,self.pos[1]+self.height), (200, 200, 200), cv2.FILLED)\n",
    "            cv2.rectangle(img, self.pos, (self.pos[0]+self.width,self.pos[1]+self.height), (80, 80, 80), 2)\n",
    "            \n",
    "            # Center the text\n",
    "            (text_width, text_height), _ = cv2.getTextSize(self.text, cv2.FONT_HERSHEY_PLAIN, 4, 4)\n",
    "            text_x = self.pos[0] + (self.width - text_width) // 2\n",
    "            text_y = self.pos[1] + (self.height + text_height) // 2\n",
    "            \n",
    "            # White text for pressed state\n",
    "            cv2.putText(img, self.text, (text_x, text_y), cv2.FONT_HERSHEY_PLAIN, 4, (255, 255, 255), 4)\n",
    "            return True\n",
    "        else:\n",
    "            return False"
   ]
  },
  {
   "cell_type": "code",
   "execution_count": 17,
   "id": "bc8212b2",
   "metadata": {},
   "outputs": [],
   "source": [
    "#create a button\n",
    "button_list_values = [[\"%\",\"CE\",\"C\",\"DEL\"],\n",
    "                      [\"7\",\"8\",\"9\",\"*\"],\n",
    "                      [\"4\",\"5\",\"6\",\"-\"],\n",
    "                      [\"1\",\"2\",\"3\",\"+\"],\n",
    "                      [\"/\",\"0\",\".\",\"=\"],]\n",
    "\n",
    "button_list = []\n",
    "for i in range(4):\n",
    "    for j in range(5):\n",
    "        xpos = i*75 + 300\n",
    "        ypos = j*75 + 125\n",
    "        button_list.append(Button((xpos,ypos),75,75,button_list_values[j][i]))\n",
    "myEquation = \"\"\n",
    "delaycounter = 0\n"
   ]
  },
  {
   "cell_type": "code",
   "execution_count": 18,
   "id": "0b86950c",
   "metadata": {},
   "outputs": [
    {
     "ename": "KeyboardInterrupt",
     "evalue": "",
     "output_type": "error",
     "traceback": [
      "\u001b[31m---------------------------------------------------------------------------\u001b[39m",
      "\u001b[31mKeyboardInterrupt\u001b[39m                         Traceback (most recent call last)",
      "\u001b[36mCell\u001b[39m\u001b[36m \u001b[39m\u001b[32mIn[18]\u001b[39m\u001b[32m, line 54\u001b[39m\n\u001b[32m     52\u001b[39m \u001b[38;5;66;03m#display the image\u001b[39;00m\n\u001b[32m     53\u001b[39m cv2.imshow(\u001b[33m\"\u001b[39m\u001b[33mImage\u001b[39m\u001b[33m\"\u001b[39m, img)\n\u001b[32m---> \u001b[39m\u001b[32m54\u001b[39m \u001b[43mcv2\u001b[49m\u001b[43m.\u001b[49m\u001b[43mwaitKey\u001b[49m\u001b[43m(\u001b[49m\u001b[32;43m1\u001b[39;49m\u001b[43m)\u001b[49m\n",
      "\u001b[31mKeyboardInterrupt\u001b[39m: "
     ]
    }
   ],
   "source": [
    "#loop to capture video\n",
    "while True:\n",
    "    #get image from camera\n",
    "    success,img=cap.read()\n",
    "    img = cv2.flip(img, 1) # Flip the image horizontally\n",
    "    #create hand detector object\n",
    "    hands,img= detector.findHands(img,flipType=False) #flipType=False to avoid flipping the image again \n",
    "    \n",
    "    #drew the button\n",
    "    cv2.rectangle(img, (300,50), (300+300,50+75), (250, 250, 250), cv2.FILLED)\n",
    "    cv2.rectangle(img, (300,50), (300+300,50+75), (80,80,80), 3)\n",
    "    for button in button_list:\n",
    "        button.draw(img)\n",
    "    \n",
    "    #check if hands are detected\n",
    "    if hands:\n",
    "        lmList = hands[0][\"lmList\"] #get the landmark list of the first hand\n",
    "        length, _, img = detector.findDistance(lmList[4][:2], lmList[8][:2], img) #find the distance between the index finger and thumb \n",
    "        x,y = lmList[8][:2]\n",
    "        if length<50:\n",
    "            for i,button in enumerate(button_list):\n",
    "                if button.click(x,y) and delaycounter==0:\n",
    "                    myValue = button_list_values[int(i%5)][int(i//5)]\n",
    "                    if myValue == \"=\":\n",
    "                        myEquation = str(eval(myEquation))\n",
    "                    elif myValue == \"C\":\n",
    "                        myEquation = \"\"\n",
    "                    elif myValue == \"DEL\":\n",
    "                        myEquation = myEquation[:-1]\n",
    "                    elif myValue == \"CE\":\n",
    "                        myEquation = \"\"\n",
    "                    \n",
    "                    else:\n",
    "                        myEquation += myValue\n",
    "                    delaycounter=1\n",
    "                    time.sleep(0.2)\n",
    "    #avoid duplicates\n",
    "    if delaycounter!=0:\n",
    "        delaycounter+=1\n",
    "        if delaycounter>10:\n",
    "            delaycounter=0\n",
    "    \n",
    "    #output screen\n",
    "    display_width = 300\n",
    "    display_x = 300\n",
    "    (text_width, text_height), _ = cv2.getTextSize(myEquation, cv2.FONT_HERSHEY_PLAIN, 2, 2)\n",
    "    text_x = display_x + (display_width - text_width ) //2\n",
    "    text_y = 50 + (75 + text_height) // 2\n",
    "    cv2.putText(img, myEquation, (text_x, text_y), cv2.FONT_HERSHEY_PLAIN, 2, (30, 30, 30), 2) \n",
    "    \n",
    "    \n",
    "    #display the image\n",
    "    cv2.imshow(\"Image\", img)\n",
    "    cv2.waitKey(1)\n",
    "    "
   ]
  },
  {
   "cell_type": "code",
   "execution_count": null,
   "id": "9ce64035",
   "metadata": {},
   "outputs": [],
   "source": []
  }
 ],
 "metadata": {
  "kernelspec": {
   "display_name": ".venv",
   "language": "python",
   "name": "python3"
  },
  "language_info": {
   "codemirror_mode": {
    "name": "ipython",
    "version": 3
   },
   "file_extension": ".py",
   "mimetype": "text/x-python",
   "name": "python",
   "nbconvert_exporter": "python",
   "pygments_lexer": "ipython3",
   "version": "3.11.9"
  }
 },
 "nbformat": 4,
 "nbformat_minor": 5
}
