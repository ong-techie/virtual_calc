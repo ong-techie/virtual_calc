{
 "cells": [
  {
   "cell_type": "code",
   "execution_count": 4,
   "id": "89ee7b02",
   "metadata": {},
   "outputs": [],
   "source": [
    "import cv2\n",
    "from cvzone.HandTrackingModule import HandDetector\n"
   ]
  },
  {
   "cell_type": "code",
   "execution_count": 5,
   "id": "39dee0bf",
   "metadata": {},
   "outputs": [],
   "source": [
    "#webcam \n",
    "cap=cv2.VideoCapture(0)\n",
    "cap.set(3,1280) #width\n",
    "cap.set(4,720) #height\n",
    "detector=HandDetector(detectionCon=0.8,maxHands=2)"
   ]
  },
  {
   "cell_type": "code",
   "execution_count": 6,
   "id": "07949dfe",
   "metadata": {},
   "outputs": [],
   "source": [
    "#creating button class\n",
    "class Button:\n",
    "    def __init__(self,pos,width,height,text):\n",
    "        self.pos=pos\n",
    "        self.width=width\n",
    "        self.height=height\n",
    "        self.text=text\n",
    "    \n",
    "    def draw(self,img):\n",
    "        cv2.rectangle(img, self.pos, (self.pos[0]+self.width,self.pos[1]+self.height), (225, 225, 225), cv2.FILLED) # Draw a rectangle around the image\n",
    "        cv2.rectangle(img, self.pos, (self.pos[0]+self.width,self.pos[1]+self.height), (50,50,50), 3) # Draw a rectangle around the image\n",
    "        cv2.putText(img,self.text,(self.pos[0]+40,self.pos[1]+60),cv2.FONT_HERSHEY_PLAIN,2,(255,0,0),2) \n",
    "    "
   ]
  },
  {
   "cell_type": "code",
   "execution_count": 7,
   "id": "bc8212b2",
   "metadata": {},
   "outputs": [],
   "source": [
    "#create a button\n",
    "button1=Button((700,150),100,100,\"1\")"
   ]
  },
  {
   "cell_type": "code",
   "execution_count": 8,
   "id": "0b86950c",
   "metadata": {},
   "outputs": [
    {
     "ename": "",
     "evalue": "",
     "output_type": "error",
     "traceback": [
      "\u001b[1;31mThe Kernel crashed while executing code in the current cell or a previous cell. \n",
      "\u001b[1;31mPlease review the code in the cell(s) to identify a possible cause of the failure. \n",
      "\u001b[1;31mClick <a href='https://aka.ms/vscodeJupyterKernelCrash'>here</a> for more info. \n",
      "\u001b[1;31mView Jupyter <a href='command:jupyter.viewOutput'>log</a> for further details."
     ]
    }
   ],
   "source": [
    "#loop to capture video\n",
    "while True:\n",
    "    #get image from camera\n",
    "    success,img=cap.read()\n",
    "    img = cv2.flip(img, 1) # Flip the image horizontally\n",
    "    #create hand detector object\n",
    "    hands,img= detector.findHands(img,flipType=False) #flipType=False to avoid flipping the image again \n",
    "    \n",
    "    #drew the button\n",
    "    button1.draw(img)\n",
    "    \n",
    "    #display the image\n",
    "    cv2.imshow(\"Image\", img)\n",
    "    cv2.waitKey(1)\n",
    "    "
   ]
  },
  {
   "cell_type": "code",
   "execution_count": null,
   "id": "9ce64035",
   "metadata": {},
   "outputs": [],
   "source": []
  }
 ],
 "metadata": {
  "kernelspec": {
   "display_name": ".venv",
   "language": "python",
   "name": "python3"
  },
  "language_info": {
   "codemirror_mode": {
    "name": "ipython",
    "version": 3
   },
   "file_extension": ".py",
   "mimetype": "text/x-python",
   "name": "python",
   "nbconvert_exporter": "python",
   "pygments_lexer": "ipython3",
   "version": "3.11.9"
  }
 },
 "nbformat": 4,
 "nbformat_minor": 5
}
