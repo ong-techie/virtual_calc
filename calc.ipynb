{
 "cells": [
  {
   "cell_type": "code",
   "execution_count": 1,
   "id": "89ee7b02",
   "metadata": {},
   "outputs": [],
   "source": [
    "import cv2\n",
    "from cvzone.HandTrackingModule import HandDetector\n"
   ]
  },
  {
   "cell_type": "code",
   "execution_count": 2,
   "id": "39dee0bf",
   "metadata": {},
   "outputs": [],
   "source": [
    "#webcam \n",
    "cap=cv2.VideoCapture(0)\n",
    "cap.set(3,1280) #width\n",
    "cap.set(4,720) #height\n",
    "detector=HandDetector(detectionCon=0.8,maxHands=2)"
   ]
  },
  {
   "cell_type": "code",
   "execution_count": 3,
   "id": "07949dfe",
   "metadata": {},
   "outputs": [],
   "source": [
    "#creating button class\n",
    "class Button:\n",
    "    def __init__(self,pos,width,height,text):\n",
    "        self.pos=pos\n",
    "        self.width=width\n",
    "        self.height=height\n",
    "        self.text=text\n",
    "    \n",
    "    def draw(self,img):\n",
    "        cv2.rectangle(img, self.pos, (self.pos[0]+self.width,self.pos[1]+self.height), (225, 225, 225), cv2.FILLED) # Draw a rectangle around the image\n",
    "        cv2.rectangle(img, self.pos, (self.pos[0]+self.width,self.pos[1]+self.height), (50,50,50), 3) # Draw a rectangle around the image\n",
    "        cv2.putText(img,self.text,(self.pos[0]+40,self.pos[1]+60),cv2.FONT_HERSHEY_PLAIN,2,(255,0,0),2) \n",
    "    "
   ]
  },
  {
   "cell_type": "code",
   "execution_count": 4,
   "id": "bc8212b2",
   "metadata": {},
   "outputs": [],
   "source": [
    "#create a button\n",
    "button_list = []\n",
    "for i in range(4):\n",
    "    for j in range(4):\n",
    "        xpos = i*100 + 800\n",
    "        ypos = j*150 + 100\n",
    "        button_list.append(Button((xpos,ypos),100,100,\"1\"))"
   ]
  },
  {
   "cell_type": "code",
   "execution_count": 5,
   "id": "0b86950c",
   "metadata": {},
   "outputs": [
    {
     "ename": "KeyboardInterrupt",
     "evalue": "",
     "output_type": "error",
     "traceback": [
      "\u001b[31m---------------------------------------------------------------------------\u001b[39m",
      "\u001b[31mKeyboardInterrupt\u001b[39m                         Traceback (most recent call last)",
      "\u001b[36mCell\u001b[39m\u001b[36m \u001b[39m\u001b[32mIn[5]\u001b[39m\u001b[32m, line 4\u001b[39m\n\u001b[32m      1\u001b[39m \u001b[38;5;66;03m#loop to capture video\u001b[39;00m\n\u001b[32m      2\u001b[39m \u001b[38;5;28;01mwhile\u001b[39;00m \u001b[38;5;28;01mTrue\u001b[39;00m:\n\u001b[32m      3\u001b[39m     \u001b[38;5;66;03m#get image from camera\u001b[39;00m\n\u001b[32m----> \u001b[39m\u001b[32m4\u001b[39m     success,img=\u001b[43mcap\u001b[49m\u001b[43m.\u001b[49m\u001b[43mread\u001b[49m\u001b[43m(\u001b[49m\u001b[43m)\u001b[49m\n\u001b[32m      5\u001b[39m     img = cv2.flip(img, \u001b[32m1\u001b[39m) \u001b[38;5;66;03m# Flip the image horizontally\u001b[39;00m\n\u001b[32m      6\u001b[39m     \u001b[38;5;66;03m#create hand detector object\u001b[39;00m\n",
      "\u001b[31mKeyboardInterrupt\u001b[39m: "
     ]
    }
   ],
   "source": [
    "#loop to capture video\n",
    "while True:\n",
    "    #get image from camera\n",
    "    success,img=cap.read()\n",
    "    img = cv2.flip(img, 1) # Flip the image horizontally\n",
    "    #create hand detector object\n",
    "    hands,img= detector.findHands(img,flipType=False) #flipType=False to avoid flipping the image again \n",
    "    \n",
    "    #drew the button\n",
    "    for button in button_list:\n",
    "        button.draw(img)\n",
    "    \n",
    "    #display the image\n",
    "    cv2.imshow(\"Image\", img)\n",
    "    cv2.waitKey(1)\n",
    "    "
   ]
  },
  {
   "cell_type": "code",
   "execution_count": null,
   "id": "9ce64035",
   "metadata": {},
   "outputs": [],
   "source": []
  }
 ],
 "metadata": {
  "kernelspec": {
   "display_name": ".venv",
   "language": "python",
   "name": "python3"
  },
  "language_info": {
   "codemirror_mode": {
    "name": "ipython",
    "version": 3
   },
   "file_extension": ".py",
   "mimetype": "text/x-python",
   "name": "python",
   "nbconvert_exporter": "python",
   "pygments_lexer": "ipython3",
   "version": "3.11.9"
  }
 },
 "nbformat": 4,
 "nbformat_minor": 5
}
